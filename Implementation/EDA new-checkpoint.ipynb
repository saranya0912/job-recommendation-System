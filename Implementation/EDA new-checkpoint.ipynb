{
 "cells": [
  {
   "cell_type": "code",
   "execution_count": null,
   "metadata": {},
   "outputs": [],
   "source": [
    "!pip install plotly"
   ]
  },
  {
   "cell_type": "code",
   "execution_count": null,
   "metadata": {},
   "outputs": [],
   "source": [
    "import numpy as np\n",
    "import pandas as pd\n"
   ]
  },
  {
   "cell_type": "code",
   "execution_count": 2,
   "metadata": {
    "scrolled": false
   },
   "outputs": [
    {
     "data": {
      "text/html": [
       "<script type=\"text/javascript\">window.PlotlyConfig = {MathJaxConfig: 'local'};</script><script type=\"text/javascript\">if (window.MathJax) {MathJax.Hub.Config({SVG: {font: \"STIX-Web\"}});}</script><script>requirejs.config({paths: { 'plotly': ['https://cdn.plot.ly/plotly-latest.min']},});if(!window._Plotly) {require(['plotly'],function(plotly) {window._Plotly=plotly;});}</script>"
      ],
      "text/vnd.plotly.v1+html": [
       "<script type=\"text/javascript\">window.PlotlyConfig = {MathJaxConfig: 'local'};</script><script type=\"text/javascript\">if (window.MathJax) {MathJax.Hub.Config({SVG: {font: \"STIX-Web\"}});}</script><script>requirejs.config({paths: { 'plotly': ['https://cdn.plot.ly/plotly-latest.min']},});if(!window._Plotly) {require(['plotly'],function(plotly) {window._Plotly=plotly;});}</script>"
      ]
     },
     "metadata": {},
     "output_type": "display_data"
    },
    {
     "ename": "ModuleNotFoundError",
     "evalue": "No module named 'pycountry'",
     "output_type": "error",
     "traceback": [
      "\u001b[1;31m---------------------------------------------------------------------------\u001b[0m",
      "\u001b[1;31mModuleNotFoundError\u001b[0m                       Traceback (most recent call last)",
      "\u001b[1;32m<ipython-input-2-cb31b1303576>\u001b[0m in \u001b[0;36m<module>\u001b[1;34m\u001b[0m\n\u001b[0;32m      7\u001b[0m \u001b[0minit_notebook_mode\u001b[0m\u001b[1;33m(\u001b[0m\u001b[0mconnected\u001b[0m\u001b[1;33m=\u001b[0m\u001b[1;32mTrue\u001b[0m\u001b[1;33m)\u001b[0m\u001b[1;33m\u001b[0m\u001b[1;33m\u001b[0m\u001b[0m\n\u001b[0;32m      8\u001b[0m \u001b[1;32mfrom\u001b[0m \u001b[0mplotly\u001b[0m\u001b[1;33m.\u001b[0m\u001b[0mtools\u001b[0m \u001b[1;32mimport\u001b[0m \u001b[0mFigureFactory\u001b[0m \u001b[1;32mas\u001b[0m \u001b[0mff\u001b[0m\u001b[1;33m\u001b[0m\u001b[1;33m\u001b[0m\u001b[0m\n\u001b[1;32m----> 9\u001b[1;33m \u001b[1;32mimport\u001b[0m \u001b[0mpycountry\u001b[0m\u001b[1;33m\u001b[0m\u001b[1;33m\u001b[0m\u001b[0m\n\u001b[0m\u001b[0;32m     10\u001b[0m \u001b[1;32mimport\u001b[0m \u001b[0mrandom\u001b[0m\u001b[1;33m\u001b[0m\u001b[1;33m\u001b[0m\u001b[0m\n\u001b[0;32m     11\u001b[0m \u001b[1;32mimport\u001b[0m \u001b[0msquarify\u001b[0m\u001b[1;33m\u001b[0m\u001b[1;33m\u001b[0m\u001b[0m\n",
      "\u001b[1;31mModuleNotFoundError\u001b[0m: No module named 'pycountry'"
     ]
    }
   ],
   "source": [
    "import numpy as np\n",
    "import pandas as pd\n",
    "import plotly.offline as py\n",
    "from plotly.offline import init_notebook_mode, iplot\n",
    "import plotly.graph_objs as go\n",
    "from plotly import tools\n",
    "init_notebook_mode(connected=True)  \n",
    "from plotly.tools import FigureFactory as ff\n",
    "import pycountry\n",
    "import random\n",
    "import squarify\n",
    "from collections import Counter\n",
    "import warnings\n",
    "warnings.filterwarnings('ignore')"
   ]
  },
  {
   "cell_type": "code",
   "execution_count": 6,
   "metadata": {},
   "outputs": [
    {
     "name": "stderr",
     "output_type": "stream",
     "text": [
      "C:\\ProgramData\\Anaconda3\\lib\\site-packages\\IPython\\core\\interactiveshell.py:3020: DtypeWarning:\n",
      "\n",
      "Columns (8,12,13,14,15,16,50,51,52,53,55,56,57,58,59,60,61,62,63,64,65,66,67,68,69,70,71,72,73,74,75,76,77,78,79,80,81,82,83,84,85,93,94,95,96,97,98,99,100,101,102,103,104,105,106,107,108,109,110,111,112,113,114,115,116,117,118,119,120,121,122,123,124,125,126,127,128) have mixed types. Specify dtype option on import or set low_memory=False.\n",
      "\n"
     ]
    }
   ],
   "source": [
    "df = pd.read_csv('C:/Users/J. SARAVANAN/Downloads/survey_results_public.csv')\n"
   ]
  },
  {
   "cell_type": "code",
   "execution_count": 8,
   "metadata": {},
   "outputs": [
    {
     "data": {
      "text/html": [
       "<div>\n",
       "<style scoped>\n",
       "    .dataframe tbody tr th:only-of-type {\n",
       "        vertical-align: middle;\n",
       "    }\n",
       "\n",
       "    .dataframe tbody tr th {\n",
       "        vertical-align: top;\n",
       "    }\n",
       "\n",
       "    .dataframe thead th {\n",
       "        text-align: right;\n",
       "    }\n",
       "</style>\n",
       "<table border=\"1\" class=\"dataframe\">\n",
       "  <thead>\n",
       "    <tr style=\"text-align: right;\">\n",
       "      <th></th>\n",
       "      <th>Respondent</th>\n",
       "      <th>Hobby</th>\n",
       "      <th>OpenSource</th>\n",
       "      <th>Country</th>\n",
       "      <th>Student</th>\n",
       "      <th>Employment</th>\n",
       "      <th>FormalEducation</th>\n",
       "      <th>UndergradMajor</th>\n",
       "      <th>CompanySize</th>\n",
       "      <th>DevType</th>\n",
       "      <th>...</th>\n",
       "      <th>Exercise</th>\n",
       "      <th>Gender</th>\n",
       "      <th>SexualOrientation</th>\n",
       "      <th>EducationParents</th>\n",
       "      <th>RaceEthnicity</th>\n",
       "      <th>Age</th>\n",
       "      <th>Dependents</th>\n",
       "      <th>MilitaryUS</th>\n",
       "      <th>SurveyTooLong</th>\n",
       "      <th>SurveyEasy</th>\n",
       "    </tr>\n",
       "  </thead>\n",
       "  <tbody>\n",
       "    <tr>\n",
       "      <th>0</th>\n",
       "      <td>1</td>\n",
       "      <td>Yes</td>\n",
       "      <td>No</td>\n",
       "      <td>Kenya</td>\n",
       "      <td>No</td>\n",
       "      <td>Employed part-time</td>\n",
       "      <td>Bachelor’s degree (BA, BS, B.Eng., etc.)</td>\n",
       "      <td>Mathematics or statistics</td>\n",
       "      <td>20 to 99 employees</td>\n",
       "      <td>Full-stack developer</td>\n",
       "      <td>...</td>\n",
       "      <td>3 - 4 times per week</td>\n",
       "      <td>Male</td>\n",
       "      <td>Straight or heterosexual</td>\n",
       "      <td>Bachelor’s degree (BA, BS, B.Eng., etc.)</td>\n",
       "      <td>Black or of African descent</td>\n",
       "      <td>25 - 34 years old</td>\n",
       "      <td>Yes</td>\n",
       "      <td>NaN</td>\n",
       "      <td>The survey was an appropriate length</td>\n",
       "      <td>Very easy</td>\n",
       "    </tr>\n",
       "    <tr>\n",
       "      <th>1</th>\n",
       "      <td>3</td>\n",
       "      <td>Yes</td>\n",
       "      <td>Yes</td>\n",
       "      <td>United Kingdom</td>\n",
       "      <td>No</td>\n",
       "      <td>Employed full-time</td>\n",
       "      <td>Bachelor’s degree (BA, BS, B.Eng., etc.)</td>\n",
       "      <td>A natural science (ex. biology, chemistry, phy...</td>\n",
       "      <td>10,000 or more employees</td>\n",
       "      <td>Database administrator;DevOps specialist;Full-...</td>\n",
       "      <td>...</td>\n",
       "      <td>Daily or almost every day</td>\n",
       "      <td>Male</td>\n",
       "      <td>Straight or heterosexual</td>\n",
       "      <td>Bachelor’s degree (BA, BS, B.Eng., etc.)</td>\n",
       "      <td>White or of European descent</td>\n",
       "      <td>35 - 44 years old</td>\n",
       "      <td>Yes</td>\n",
       "      <td>NaN</td>\n",
       "      <td>The survey was an appropriate length</td>\n",
       "      <td>Somewhat easy</td>\n",
       "    </tr>\n",
       "    <tr>\n",
       "      <th>2</th>\n",
       "      <td>4</td>\n",
       "      <td>Yes</td>\n",
       "      <td>Yes</td>\n",
       "      <td>United States</td>\n",
       "      <td>No</td>\n",
       "      <td>Employed full-time</td>\n",
       "      <td>Associate degree</td>\n",
       "      <td>Computer science, computer engineering, or sof...</td>\n",
       "      <td>20 to 99 employees</td>\n",
       "      <td>Engineering manager;Full-stack developer</td>\n",
       "      <td>...</td>\n",
       "      <td>NaN</td>\n",
       "      <td>NaN</td>\n",
       "      <td>NaN</td>\n",
       "      <td>NaN</td>\n",
       "      <td>NaN</td>\n",
       "      <td>NaN</td>\n",
       "      <td>NaN</td>\n",
       "      <td>NaN</td>\n",
       "      <td>NaN</td>\n",
       "      <td>NaN</td>\n",
       "    </tr>\n",
       "    <tr>\n",
       "      <th>3</th>\n",
       "      <td>5</td>\n",
       "      <td>No</td>\n",
       "      <td>No</td>\n",
       "      <td>United States</td>\n",
       "      <td>No</td>\n",
       "      <td>Employed full-time</td>\n",
       "      <td>Bachelor’s degree (BA, BS, B.Eng., etc.)</td>\n",
       "      <td>Computer science, computer engineering, or sof...</td>\n",
       "      <td>100 to 499 employees</td>\n",
       "      <td>Full-stack developer</td>\n",
       "      <td>...</td>\n",
       "      <td>I don't typically exercise</td>\n",
       "      <td>Male</td>\n",
       "      <td>Straight or heterosexual</td>\n",
       "      <td>Some college/university study without earning ...</td>\n",
       "      <td>White or of European descent</td>\n",
       "      <td>35 - 44 years old</td>\n",
       "      <td>No</td>\n",
       "      <td>No</td>\n",
       "      <td>The survey was an appropriate length</td>\n",
       "      <td>Somewhat easy</td>\n",
       "    </tr>\n",
       "    <tr>\n",
       "      <th>4</th>\n",
       "      <td>7</td>\n",
       "      <td>Yes</td>\n",
       "      <td>No</td>\n",
       "      <td>South Africa</td>\n",
       "      <td>Yes, part-time</td>\n",
       "      <td>Employed full-time</td>\n",
       "      <td>Some college/university study without earning ...</td>\n",
       "      <td>Computer science, computer engineering, or sof...</td>\n",
       "      <td>10,000 or more employees</td>\n",
       "      <td>Data or business analyst;Desktop or enterprise...</td>\n",
       "      <td>...</td>\n",
       "      <td>3 - 4 times per week</td>\n",
       "      <td>Male</td>\n",
       "      <td>Straight or heterosexual</td>\n",
       "      <td>Some college/university study without earning ...</td>\n",
       "      <td>White or of European descent</td>\n",
       "      <td>18 - 24 years old</td>\n",
       "      <td>Yes</td>\n",
       "      <td>NaN</td>\n",
       "      <td>The survey was an appropriate length</td>\n",
       "      <td>Somewhat easy</td>\n",
       "    </tr>\n",
       "  </tbody>\n",
       "</table>\n",
       "<p>5 rows × 129 columns</p>\n",
       "</div>"
      ],
      "text/plain": [
       "   Respondent Hobby OpenSource         Country         Student  \\\n",
       "0           1   Yes         No           Kenya              No   \n",
       "1           3   Yes        Yes  United Kingdom              No   \n",
       "2           4   Yes        Yes   United States              No   \n",
       "3           5    No         No   United States              No   \n",
       "4           7   Yes         No    South Africa  Yes, part-time   \n",
       "\n",
       "           Employment                                    FormalEducation  \\\n",
       "0  Employed part-time           Bachelor’s degree (BA, BS, B.Eng., etc.)   \n",
       "1  Employed full-time           Bachelor’s degree (BA, BS, B.Eng., etc.)   \n",
       "2  Employed full-time                                   Associate degree   \n",
       "3  Employed full-time           Bachelor’s degree (BA, BS, B.Eng., etc.)   \n",
       "4  Employed full-time  Some college/university study without earning ...   \n",
       "\n",
       "                                      UndergradMajor  \\\n",
       "0                          Mathematics or statistics   \n",
       "1  A natural science (ex. biology, chemistry, phy...   \n",
       "2  Computer science, computer engineering, or sof...   \n",
       "3  Computer science, computer engineering, or sof...   \n",
       "4  Computer science, computer engineering, or sof...   \n",
       "\n",
       "                CompanySize  \\\n",
       "0        20 to 99 employees   \n",
       "1  10,000 or more employees   \n",
       "2        20 to 99 employees   \n",
       "3      100 to 499 employees   \n",
       "4  10,000 or more employees   \n",
       "\n",
       "                                             DevType      ...        \\\n",
       "0                               Full-stack developer      ...         \n",
       "1  Database administrator;DevOps specialist;Full-...      ...         \n",
       "2           Engineering manager;Full-stack developer      ...         \n",
       "3                               Full-stack developer      ...         \n",
       "4  Data or business analyst;Desktop or enterprise...      ...         \n",
       "\n",
       "                     Exercise Gender         SexualOrientation  \\\n",
       "0        3 - 4 times per week   Male  Straight or heterosexual   \n",
       "1   Daily or almost every day   Male  Straight or heterosexual   \n",
       "2                         NaN    NaN                       NaN   \n",
       "3  I don't typically exercise   Male  Straight or heterosexual   \n",
       "4        3 - 4 times per week   Male  Straight or heterosexual   \n",
       "\n",
       "                                    EducationParents  \\\n",
       "0           Bachelor’s degree (BA, BS, B.Eng., etc.)   \n",
       "1           Bachelor’s degree (BA, BS, B.Eng., etc.)   \n",
       "2                                                NaN   \n",
       "3  Some college/university study without earning ...   \n",
       "4  Some college/university study without earning ...   \n",
       "\n",
       "                  RaceEthnicity                Age Dependents  MilitaryUS  \\\n",
       "0   Black or of African descent  25 - 34 years old        Yes         NaN   \n",
       "1  White or of European descent  35 - 44 years old        Yes         NaN   \n",
       "2                           NaN                NaN        NaN         NaN   \n",
       "3  White or of European descent  35 - 44 years old         No          No   \n",
       "4  White or of European descent  18 - 24 years old        Yes         NaN   \n",
       "\n",
       "                          SurveyTooLong     SurveyEasy  \n",
       "0  The survey was an appropriate length      Very easy  \n",
       "1  The survey was an appropriate length  Somewhat easy  \n",
       "2                                   NaN            NaN  \n",
       "3  The survey was an appropriate length  Somewhat easy  \n",
       "4  The survey was an appropriate length  Somewhat easy  \n",
       "\n",
       "[5 rows x 129 columns]"
      ]
     },
     "execution_count": 8,
     "metadata": {},
     "output_type": "execute_result"
    }
   ],
   "source": [
    "df.head()"
   ]
  },
  {
   "cell_type": "code",
   "execution_count": 10,
   "metadata": {},
   "outputs": [
    {
     "data": {
      "application/vnd.plotly.v1+json": {
       "config": {
        "linkText": "Export to plot.ly",
        "plotlyServerURL": "https://plot.ly",
        "showLink": false
       },
       "data": [
        {
         "name": "Yes",
         "opacity": 0.6,
         "type": "bar",
         "uid": "2533d706-579b-4842-b944-5392e2eec94b",
         "x": [
          "Female",
          "Male"
         ],
         "y": [
          2697,
          49258
         ]
        },
        {
         "name": "No",
         "opacity": 0.6,
         "type": "bar",
         "uid": "d94937fe-b7a0-4361-a951-5d60ee68b2c7",
         "x": [
          "Female",
          "Male"
         ],
         "y": [
          1328,
          10200
         ]
        }
       ],
       "layout": {
        "barmode": "group"
       }
      },
      "text/html": [
       "<div id=\"44065059-53f1-4e72-b497-179fa086291f\" style=\"height: 525px; width: 100%;\" class=\"plotly-graph-div\"></div><script type=\"text/javascript\">require([\"plotly\"], function(Plotly) { window.PLOTLYENV=window.PLOTLYENV || {};window.PLOTLYENV.BASE_URL=\"https://plot.ly\";\n",
       "if (document.getElementById(\"44065059-53f1-4e72-b497-179fa086291f\")) {\n",
       "    Plotly.newPlot(\"44065059-53f1-4e72-b497-179fa086291f\", [{\"name\": \"Yes\", \"opacity\": 0.6, \"x\": [\"Female\", \"Male\"], \"y\": [2697, 49258], \"type\": \"bar\", \"uid\": \"2533d706-579b-4842-b944-5392e2eec94b\"}, {\"name\": \"No\", \"opacity\": 0.6, \"x\": [\"Female\", \"Male\"], \"y\": [1328, 10200], \"type\": \"bar\", \"uid\": \"d94937fe-b7a0-4361-a951-5d60ee68b2c7\"}], {\"barmode\": \"group\"}, {\"showLink\": false, \"linkText\": \"Export to plot.ly\", \"plotlyServerURL\": \"https://plot.ly\"}); \n",
       "}\n",
       "});</script><script type=\"text/javascript\">window.addEventListener(\"resize\", function(){if (document.getElementById(\"44065059-53f1-4e72-b497-179fa086291f\")) {window._Plotly.Plots.resize(document.getElementById(\"44065059-53f1-4e72-b497-179fa086291f\"));};})</script>"
      ],
      "text/vnd.plotly.v1+html": [
       "<div id=\"44065059-53f1-4e72-b497-179fa086291f\" style=\"height: 525px; width: 100%;\" class=\"plotly-graph-div\"></div><script type=\"text/javascript\">require([\"plotly\"], function(Plotly) { window.PLOTLYENV=window.PLOTLYENV || {};window.PLOTLYENV.BASE_URL=\"https://plot.ly\";\n",
       "if (document.getElementById(\"44065059-53f1-4e72-b497-179fa086291f\")) {\n",
       "    Plotly.newPlot(\"44065059-53f1-4e72-b497-179fa086291f\", [{\"name\": \"Yes\", \"opacity\": 0.6, \"x\": [\"Female\", \"Male\"], \"y\": [2697, 49258], \"type\": \"bar\", \"uid\": \"2533d706-579b-4842-b944-5392e2eec94b\"}, {\"name\": \"No\", \"opacity\": 0.6, \"x\": [\"Female\", \"Male\"], \"y\": [1328, 10200], \"type\": \"bar\", \"uid\": \"d94937fe-b7a0-4361-a951-5d60ee68b2c7\"}], {\"barmode\": \"group\"}, {\"showLink\": false, \"linkText\": \"Export to plot.ly\", \"plotlyServerURL\": \"https://plot.ly\"}); \n",
       "}\n",
       "});</script><script type=\"text/javascript\">window.addEventListener(\"resize\", function(){if (document.getElementById(\"44065059-53f1-4e72-b497-179fa086291f\")) {window._Plotly.Plots.resize(document.getElementById(\"44065059-53f1-4e72-b497-179fa086291f\"));};})</script>"
      ]
     },
     "metadata": {},
     "output_type": "display_data"
    }
   ],
   "source": [
    "data = df[['Hobby','Gender']].dropna()\n",
    "\n",
    "trace1 = go.Bar(\n",
    "    x=['Female', 'Male'],\n",
    "    y=[data[(data['Gender'] == 'Female') & (data['Hobby'] == 'Yes')].count()[0], data[(data['Gender'] == 'Male') & (data['Hobby'] == 'Yes')].count()[0]],\n",
    "    name='Yes',\n",
    "    opacity=0.6\n",
    ")\n",
    "trace2 = go.Bar(\n",
    "    x=['Female', 'Male'],\n",
    "    y=[data[(data['Gender'] == 'Female') & (data['Hobby'] == 'No')].count()[0], data[(data['Gender'] == 'Male') & (data['Hobby'] == 'No')].count()[0]],\n",
    "    name='No',\n",
    "    opacity=0.6\n",
    ")\n",
    "\n",
    "data = [trace1, trace2]\n",
    "layout = go.Layout(\n",
    "    barmode='group'\n",
    ")\n",
    "\n",
    "fig = go.Figure(data=data, layout=layout)\n",
    "py.iplot(fig)"
   ]
  },
  {
   "cell_type": "code",
   "execution_count": 16,
   "metadata": {},
   "outputs": [
    {
     "data": {
      "application/vnd.plotly.v1+json": {
       "config": {
        "linkText": "Export to plot.ly",
        "plotlyServerURL": "https://plot.ly",
        "showLink": false
       },
       "data": [
        {
         "name": "Yes",
         "opacity": 0.6,
         "type": "bar",
         "uid": "fc1cff9c-dbe3-48bc-9463-4a998a8cd24d",
         "x": [
          "Yes",
          "No"
         ],
         "y": [
          38522,
          4564
         ]
        }
       ],
       "layout": {
        "barmode": "group"
       }
      },
      "text/html": [
       "<div id=\"6f735322-b41c-43b1-9bac-1237f975ca53\" style=\"height: 525px; width: 100%;\" class=\"plotly-graph-div\"></div><script type=\"text/javascript\">require([\"plotly\"], function(Plotly) { window.PLOTLYENV=window.PLOTLYENV || {};window.PLOTLYENV.BASE_URL=\"https://plot.ly\";\n",
       "if (document.getElementById(\"6f735322-b41c-43b1-9bac-1237f975ca53\")) {\n",
       "    Plotly.newPlot(\"6f735322-b41c-43b1-9bac-1237f975ca53\", [{\"name\": \"Yes\", \"opacity\": 0.6, \"x\": [\"Yes\", \"No\"], \"y\": [38522, 4564], \"type\": \"bar\", \"uid\": \"fc1cff9c-dbe3-48bc-9463-4a998a8cd24d\"}], {\"barmode\": \"group\"}, {\"showLink\": false, \"linkText\": \"Export to plot.ly\", \"plotlyServerURL\": \"https://plot.ly\"}); \n",
       "}\n",
       "});</script><script type=\"text/javascript\">window.addEventListener(\"resize\", function(){if (document.getElementById(\"6f735322-b41c-43b1-9bac-1237f975ca53\")) {window._Plotly.Plots.resize(document.getElementById(\"6f735322-b41c-43b1-9bac-1237f975ca53\"));};})</script>"
      ],
      "text/vnd.plotly.v1+html": [
       "<div id=\"6f735322-b41c-43b1-9bac-1237f975ca53\" style=\"height: 525px; width: 100%;\" class=\"plotly-graph-div\"></div><script type=\"text/javascript\">require([\"plotly\"], function(Plotly) { window.PLOTLYENV=window.PLOTLYENV || {};window.PLOTLYENV.BASE_URL=\"https://plot.ly\";\n",
       "if (document.getElementById(\"6f735322-b41c-43b1-9bac-1237f975ca53\")) {\n",
       "    Plotly.newPlot(\"6f735322-b41c-43b1-9bac-1237f975ca53\", [{\"name\": \"Yes\", \"opacity\": 0.6, \"x\": [\"Yes\", \"No\"], \"y\": [38522, 4564], \"type\": \"bar\", \"uid\": \"fc1cff9c-dbe3-48bc-9463-4a998a8cd24d\"}], {\"barmode\": \"group\"}, {\"showLink\": false, \"linkText\": \"Export to plot.ly\", \"plotlyServerURL\": \"https://plot.ly\"}); \n",
       "}\n",
       "});</script><script type=\"text/javascript\">window.addEventListener(\"resize\", function(){if (document.getElementById(\"6f735322-b41c-43b1-9bac-1237f975ca53\")) {window._Plotly.Plots.resize(document.getElementById(\"6f735322-b41c-43b1-9bac-1237f975ca53\"));};})</script>"
      ]
     },
     "metadata": {},
     "output_type": "display_data"
    }
   ],
   "source": [
    "data = df[['Hobby','OpenSource']].dropna()\n",
    "\n",
    "trace1 = go.Bar(\n",
    "    x=['Yes', 'No'],\n",
    "    y=[data[(data['OpenSource'] == 'Yes') & (data['Hobby'] == 'Yes')].count()[0], data[(data['OpenSource'] == 'Yes') & (data['Hobby'] == 'No')].count()[0]],\n",
    "    name='Yes',\n",
    "    opacity=0.6\n",
    ")\n",
    "\n",
    "data = [trace1]\n",
    "layout = go.Layout(\n",
    "    barmode='group'\n",
    ")\n",
    "\n",
    "fig = go.Figure(data=data, layout=layout)\n",
    "py.iplot(fig)"
   ]
  },
  {
   "cell_type": "code",
   "execution_count": 19,
   "metadata": {},
   "outputs": [
    {
     "data": {
      "application/vnd.plotly.v1+json": {
       "config": {
        "linkText": "Export to plot.ly",
        "plotlyServerURL": "https://plot.ly",
        "showLink": false
       },
       "data": [
        {
         "name": "Yes",
         "opacity": 0.6,
         "type": "bar",
         "uid": "1a00eff4-80a0-4237-876b-70681849454e",
         "x": [
          "Female",
          "Male"
         ],
         "y": [
          1224,
          26886
         ]
        },
        {
         "name": "No",
         "opacity": 0.6,
         "type": "bar",
         "uid": "e7459192-6101-4054-bb1d-b16190f6ea50",
         "x": [
          "Female",
          "Male"
         ],
         "y": [
          2801,
          32572
         ]
        }
       ],
       "layout": {
        "barmode": "group"
       }
      },
      "text/html": [
       "<div id=\"2136ce81-8e85-4a3b-93f3-1390127871f1\" style=\"height: 525px; width: 100%;\" class=\"plotly-graph-div\"></div><script type=\"text/javascript\">require([\"plotly\"], function(Plotly) { window.PLOTLYENV=window.PLOTLYENV || {};window.PLOTLYENV.BASE_URL=\"https://plot.ly\";\n",
       "if (document.getElementById(\"2136ce81-8e85-4a3b-93f3-1390127871f1\")) {\n",
       "    Plotly.newPlot(\"2136ce81-8e85-4a3b-93f3-1390127871f1\", [{\"name\": \"Yes\", \"opacity\": 0.6, \"x\": [\"Female\", \"Male\"], \"y\": [1224, 26886], \"type\": \"bar\", \"uid\": \"1a00eff4-80a0-4237-876b-70681849454e\"}, {\"name\": \"No\", \"opacity\": 0.6, \"x\": [\"Female\", \"Male\"], \"y\": [2801, 32572], \"type\": \"bar\", \"uid\": \"e7459192-6101-4054-bb1d-b16190f6ea50\"}], {\"barmode\": \"group\"}, {\"showLink\": false, \"linkText\": \"Export to plot.ly\", \"plotlyServerURL\": \"https://plot.ly\"}); \n",
       "}\n",
       "});</script><script type=\"text/javascript\">window.addEventListener(\"resize\", function(){if (document.getElementById(\"2136ce81-8e85-4a3b-93f3-1390127871f1\")) {window._Plotly.Plots.resize(document.getElementById(\"2136ce81-8e85-4a3b-93f3-1390127871f1\"));};})</script>"
      ],
      "text/vnd.plotly.v1+html": [
       "<div id=\"2136ce81-8e85-4a3b-93f3-1390127871f1\" style=\"height: 525px; width: 100%;\" class=\"plotly-graph-div\"></div><script type=\"text/javascript\">require([\"plotly\"], function(Plotly) { window.PLOTLYENV=window.PLOTLYENV || {};window.PLOTLYENV.BASE_URL=\"https://plot.ly\";\n",
       "if (document.getElementById(\"2136ce81-8e85-4a3b-93f3-1390127871f1\")) {\n",
       "    Plotly.newPlot(\"2136ce81-8e85-4a3b-93f3-1390127871f1\", [{\"name\": \"Yes\", \"opacity\": 0.6, \"x\": [\"Female\", \"Male\"], \"y\": [1224, 26886], \"type\": \"bar\", \"uid\": \"1a00eff4-80a0-4237-876b-70681849454e\"}, {\"name\": \"No\", \"opacity\": 0.6, \"x\": [\"Female\", \"Male\"], \"y\": [2801, 32572], \"type\": \"bar\", \"uid\": \"e7459192-6101-4054-bb1d-b16190f6ea50\"}], {\"barmode\": \"group\"}, {\"showLink\": false, \"linkText\": \"Export to plot.ly\", \"plotlyServerURL\": \"https://plot.ly\"}); \n",
       "}\n",
       "});</script><script type=\"text/javascript\">window.addEventListener(\"resize\", function(){if (document.getElementById(\"2136ce81-8e85-4a3b-93f3-1390127871f1\")) {window._Plotly.Plots.resize(document.getElementById(\"2136ce81-8e85-4a3b-93f3-1390127871f1\"));};})</script>"
      ]
     },
     "metadata": {},
     "output_type": "display_data"
    }
   ],
   "source": [
    "data = df[['OpenSource','Gender']].dropna()\n",
    "\n",
    "trace1 = go.Bar(\n",
    "    x=['Female', 'Male'],\n",
    "    y=[data[(data['Gender'] == 'Female') & (data['OpenSource'] == 'Yes')].count()[0], data[(data['Gender'] == 'Male') & (data['OpenSource'] == 'Yes')].count()[0]],\n",
    "    name='Yes',\n",
    "    opacity=0.6\n",
    ")\n",
    "trace2 = go.Bar(\n",
    "    x=['Female', 'Male'],\n",
    "    y=[data[(data['Gender'] == 'Female') & (data['OpenSource'] == 'No')].count()[0], data[(data['Gender'] == 'Male') & (data['OpenSource'] == 'No')].count()[0]],\n",
    "    name='No',\n",
    "    opacity=0.6\n",
    ")\n",
    "\n",
    "data = [trace1, trace2]\n",
    "layout = go.Layout(\n",
    "    barmode='group',\n",
    "    \n",
    ")\n",
    "\n",
    "fig = go.Figure(data=data, layout=layout)\n",
    "py.iplot(fig)\n"
   ]
  },
  {
   "cell_type": "code",
   "execution_count": 20,
   "metadata": {},
   "outputs": [
    {
     "name": "stderr",
     "output_type": "stream",
     "text": [
      "C:\\ProgramData\\Anaconda3\\lib\\site-packages\\ipykernel_launcher.py:5: SettingWithCopyWarning:\n",
      "\n",
      "\n",
      "A value is trying to be set on a copy of a slice from a DataFrame\n",
      "\n",
      "See the caveats in the documentation: http://pandas.pydata.org/pandas-docs/stable/indexing.html#indexing-view-versus-copy\n",
      "\n",
      "C:\\ProgramData\\Anaconda3\\lib\\site-packages\\pandas\\core\\series.py:915: SettingWithCopyWarning:\n",
      "\n",
      "\n",
      "A value is trying to be set on a copy of a slice from a DataFrame\n",
      "\n",
      "See the caveats in the documentation: http://pandas.pydata.org/pandas-docs/stable/indexing.html#indexing-view-versus-copy\n",
      "\n"
     ]
    },
    {
     "ename": "NameError",
     "evalue": "name 'pycountry' is not defined",
     "output_type": "error",
     "traceback": [
      "\u001b[1;31m---------------------------------------------------------------------------\u001b[0m",
      "\u001b[1;31mNameError\u001b[0m                                 Traceback (most recent call last)",
      "\u001b[1;32m<ipython-input-20-26ef6a18bd14>\u001b[0m in \u001b[0;36m<module>\u001b[1;34m\u001b[0m\n\u001b[0;32m      6\u001b[0m \u001b[1;32mfor\u001b[0m \u001b[0mi\u001b[0m\u001b[1;33m,\u001b[0m\u001b[0mcountry\u001b[0m \u001b[1;32min\u001b[0m \u001b[0menumerate\u001b[0m\u001b[1;33m(\u001b[0m\u001b[0mcountries\u001b[0m\u001b[1;33m[\u001b[0m\u001b[1;34m'index'\u001b[0m\u001b[1;33m]\u001b[0m\u001b[1;33m)\u001b[0m\u001b[1;33m:\u001b[0m\u001b[1;33m\u001b[0m\u001b[1;33m\u001b[0m\u001b[0m\n\u001b[0;32m      7\u001b[0m     \u001b[0muser_input\u001b[0m \u001b[1;33m=\u001b[0m \u001b[0mcountry\u001b[0m\u001b[1;33m\u001b[0m\u001b[1;33m\u001b[0m\u001b[0m\n\u001b[1;32m----> 8\u001b[1;33m     \u001b[0mmapping\u001b[0m \u001b[1;33m=\u001b[0m \u001b[1;33m{\u001b[0m\u001b[0mcountry\u001b[0m\u001b[1;33m.\u001b[0m\u001b[0mname\u001b[0m\u001b[1;33m:\u001b[0m \u001b[0mcountry\u001b[0m\u001b[1;33m.\u001b[0m\u001b[0malpha_3\u001b[0m \u001b[1;32mfor\u001b[0m \u001b[0mcountry\u001b[0m \u001b[1;32min\u001b[0m \u001b[0mpycountry\u001b[0m\u001b[1;33m.\u001b[0m\u001b[0mcountries\u001b[0m\u001b[1;33m}\u001b[0m\u001b[1;33m\u001b[0m\u001b[1;33m\u001b[0m\u001b[0m\n\u001b[0m\u001b[0;32m      9\u001b[0m     \u001b[0mcountries\u001b[0m\u001b[1;33m.\u001b[0m\u001b[0mset_value\u001b[0m\u001b[1;33m(\u001b[0m\u001b[0mi\u001b[0m\u001b[1;33m,\u001b[0m \u001b[1;34m'code'\u001b[0m\u001b[1;33m,\u001b[0m \u001b[0mmapping\u001b[0m\u001b[1;33m.\u001b[0m\u001b[0mget\u001b[0m\u001b[1;33m(\u001b[0m\u001b[0muser_input\u001b[0m\u001b[1;33m)\u001b[0m\u001b[1;33m)\u001b[0m\u001b[1;33m\u001b[0m\u001b[1;33m\u001b[0m\u001b[0m\n\u001b[0;32m     10\u001b[0m data = [ dict(\n",
      "\u001b[1;31mNameError\u001b[0m: name 'pycountry' is not defined"
     ]
    }
   ],
   "source": [
    "data = df[df['OpenSource'] == 'Yes']\n",
    "countries = data['Country'].value_counts()\n",
    "\n",
    "countries = countries.to_frame().reset_index()\n",
    "countries.loc[2]['code'] = 'test'\n",
    "for i,country in enumerate(countries['index']):\n",
    "    user_input = country\n",
    "    mapping = {country.name: country.alpha_3 for country in pycountry.countries}\n",
    "    countries.set_value(i, 'code', mapping.get(user_input))\n",
    "data = [ dict(\n",
    "        type = 'choropleth',\n",
    "        locations = countries['code'],\n",
    "        z = countries['Country'],\n",
    "        text = countries['index'],\n",
    "        colorscale = [[0,\"rgb(5, 10, 172)\"],[0.35,\"rgb(40, 60, 190)\"],[0.5,\"rgb(70, 100, 245)\"],\\\n",
    "            [0.6,\"rgb(90, 120, 245)\"],[0.7,\"rgb(106, 137, 247)\"],[1,\"rgb(220, 220, 220)\"]],\n",
    "        autocolorscale = False,\n",
    "        reversescale = True,\n",
    "        marker = dict(\n",
    "            line = dict (\n",
    "                color = 'rgb(180,180,180)',\n",
    "                width = 0.5\n",
    "            ) ),\n",
    "        colorbar = dict(\n",
    "            autotick = False,\n",
    "            tickprefix = '$',\n",
    "            title = 'Total Count'),\n",
    "      ) ]\n",
    "\n",
    "layout = dict(\n",
    "    title = 'countries which responded to the survey',\n",
    "    geo = dict(\n",
    "        showframe = False,\n",
    "        showcoastlines = False,\n",
    "        projection = dict(\n",
    "            type = 'Mercator'\n",
    "        )\n",
    "    )\n",
    ")\n",
    "\n",
    "fig = dict( data=data, layout=layout )\n",
    "py.iplot( fig, validate=False)"
   ]
  },
  {
   "cell_type": "code",
   "execution_count": 22,
   "metadata": {},
   "outputs": [
    {
     "ename": "NameError",
     "evalue": "name 'colors' is not defined",
     "output_type": "error",
     "traceback": [
      "\u001b[1;31m---------------------------------------------------------------------------\u001b[0m",
      "\u001b[1;31mNameError\u001b[0m                                 Traceback (most recent call last)",
      "\u001b[1;32m<ipython-input-22-abf0a63e989e>\u001b[0m in \u001b[0;36m<module>\u001b[1;34m\u001b[0m\n\u001b[0;32m      9\u001b[0m       \u001b[0mthickness\u001b[0m \u001b[1;33m=\u001b[0m \u001b[1;36m20\u001b[0m\u001b[1;33m,\u001b[0m\u001b[1;33m\u001b[0m\u001b[1;33m\u001b[0m\u001b[0m\n\u001b[0;32m     10\u001b[0m       line = dict(\n\u001b[1;32m---> 11\u001b[1;33m         \u001b[0mcolor\u001b[0m \u001b[1;33m=\u001b[0m \u001b[0mcolors\u001b[0m\u001b[1;33m(\u001b[0m\u001b[1;36m1\u001b[0m\u001b[1;33m)\u001b[0m\u001b[1;33m,\u001b[0m\u001b[1;33m\u001b[0m\u001b[1;33m\u001b[0m\u001b[0m\n\u001b[0m\u001b[0;32m     12\u001b[0m         \u001b[0mwidth\u001b[0m \u001b[1;33m=\u001b[0m \u001b[1;36m0.5\u001b[0m\u001b[1;33m\u001b[0m\u001b[1;33m\u001b[0m\u001b[0m\n\u001b[0;32m     13\u001b[0m       ),\n",
      "\u001b[1;31mNameError\u001b[0m: name 'colors' is not defined"
     ]
    }
   ],
   "source": [
    "data = df[['OpenSource','Age']]\n",
    "age = data['Age'].dropna().unique()\n",
    "\n",
    "label = np.concatenate((np.array(data['Age'].dropna().unique()), np.array(['Yes','No'])), axis = 0)\n",
    "data = dict(\n",
    "    type='sankey',\n",
    "    node = dict(\n",
    "      pad = 15,\n",
    "      thickness = 20,\n",
    "      line = dict(\n",
    "        color = colors(1),\n",
    "        width = 0.5\n",
    "      ),\n",
    "      label = label,\n",
    "      color = random_colors(20)\n",
    "    ),\n",
    "    link = dict(\n",
    "      source = [0,1,2,3,4,5,6,0,1,2,3,4,5,6],\n",
    "      target = [8,8,8,8,8,8,8,7,7,7,7,7,7,7],\n",
    "      value = [len(data[(data['Age'] =='25 - 34 years old') & (data['OpenSource'] == 'Yes')])\n",
    "               ,len(data[(data['Age'] =='35 - 44 years old') & (data['OpenSource'] == 'Yes')])\n",
    "               ,len(data[(data['Age'] =='18 - 24 years old') & (data['OpenSource'] == 'Yes')])\n",
    "               ,len(data[(data['Age'] =='45 - 54 years old') & (data['OpenSource'] == 'Yes')])\n",
    "               ,len(data[(data['Age'] =='55 - 64 years old') & (data['OpenSource'] == 'Yes')])\n",
    "               ,len(data[(data['Age'] =='Under 18 years old') & (data['OpenSource'] == 'Yes')])\n",
    "               ,len(data[(data['Age'] =='65 years or older') & (data['OpenSource'] == 'Yes')])\n",
    "               ,len(data[(data['Age'] =='25 - 34 years old') & (data['OpenSource'] == 'No')])\n",
    "               ,len(data[(data['Age'] =='35 - 44 years old') & (data['OpenSource'] == 'No')])\n",
    "               ,len(data[(data['Age'] =='18 - 24 years old') & (data['OpenSource'] == 'No')])\n",
    "               ,len(data[(data['Age'] =='45 - 54 years old') & (data['OpenSource'] == 'No')])\n",
    "               ,len(data[(data['Age'] =='55 - 64 years old') & (data['OpenSource'] == 'No')])\n",
    "               ,len(data[(data['Age'] =='Under 18 years old') & (data['OpenSource'] == 'No')])\n",
    "               ,len(data[(data['Age'] =='65 years or older') & (data['OpenSource'] == 'No')])\n",
    "              ]\n",
    "  ))\n",
    "\n",
    "\n",
    "fig = dict(data=[data])\n",
    "py.iplot(fig, validate=False)"
   ]
  },
  {
   "cell_type": "code",
   "execution_count": 30,
   "metadata": {},
   "outputs": [
    {
     "ename": "SyntaxError",
     "evalue": "invalid syntax (<ipython-input-30-9c6741909bc2>, line 3)",
     "output_type": "error",
     "traceback": [
      "\u001b[1;36m  File \u001b[1;32m\"<ipython-input-30-9c6741909bc2>\"\u001b[1;36m, line \u001b[1;32m3\u001b[0m\n\u001b[1;33m    group_by(Country) %>%\u001b[0m\n\u001b[1;37m                       ^\u001b[0m\n\u001b[1;31mSyntaxError\u001b[0m\u001b[1;31m:\u001b[0m invalid syntax\n"
     ]
    }
   ],
   "source": [
    "\n",
    " \n",
    "group_by(Country) %>% \n",
    "count() %>% \n",
    "arrange(desc(n)) %>% \n",
    "#head(10) %>% \n",
    "hchart('treemap',hcaes(x = Country, value = n, color = n)) %>% \n",
    "hc_title(text = 'Countries from where overall respondents come from') "
   ]
  },
  {
   "cell_type": "code",
   "execution_count": 31,
   "metadata": {},
   "outputs": [
    {
     "ename": "NameError",
     "evalue": "name 'group_by' is not defined",
     "output_type": "error",
     "traceback": [
      "\u001b[1;31m---------------------------------------------------------------------------\u001b[0m",
      "\u001b[1;31mNameError\u001b[0m                                 Traceback (most recent call last)",
      "\u001b[1;32m<ipython-input-31-844ce426da94>\u001b[0m in \u001b[0;36m<module>\u001b[1;34m\u001b[0m\n\u001b[1;32m----> 1\u001b[1;33m \u001b[0mgroup_by\u001b[0m\u001b[1;33m(\u001b[0m\u001b[0mCountry\u001b[0m\u001b[1;33m)\u001b[0m\u001b[1;33m\u001b[0m\u001b[1;33m\u001b[0m\u001b[0m\n\u001b[0m",
      "\u001b[1;31mNameError\u001b[0m: name 'group_by' is not defined"
     ]
    }
   ],
   "source": [
    "group_by(Country)"
   ]
  },
  {
   "cell_type": "code",
   "execution_count": null,
   "metadata": {},
   "outputs": [],
   "source": []
  }
 ],
 "metadata": {
  "kernelspec": {
   "display_name": "Python 3",
   "language": "python",
   "name": "python3"
  },
  "language_info": {
   "codemirror_mode": {
    "name": "ipython",
    "version": 3
   },
   "file_extension": ".py",
   "mimetype": "text/x-python",
   "name": "python",
   "nbconvert_exporter": "python",
   "pygments_lexer": "ipython3",
   "version": "3.7.1"
  }
 },
 "nbformat": 4,
 "nbformat_minor": 2
}
