{
 "cells": [
  {
   "cell_type": "code",
   "execution_count": 56,
   "metadata": {},
   "outputs": [],
   "source": [
    "import requests\n",
    "import csv\n",
    "from datetime import datetime\n",
    "from bs4 import BeautifulSoup\n"
   ]
  },
  {
   "cell_type": "code",
   "execution_count": 57,
   "metadata": {},
   "outputs": [],
   "source": [
    "for i in range(1, 10):\n",
    "\tpage = requests.get(\"https://www.monsterindia.com/hr-jobs.html-%s\" %i)\n",
    "\tsoup = BeautifulSoup(page.content, 'html.parser')\n"
   ]
  },
  {
   "cell_type": "code",
   "execution_count": 59,
   "metadata": {},
   "outputs": [],
   "source": [
    "data = soup.find_all(\"div\",{\"class\":\"jobwrap\"}) \n",
    "item = data[0]\n"
   ]
  },
  {
   "cell_type": "code",
   "execution_count": 60,
   "metadata": {},
   "outputs": [],
   "source": [
    "filename=\"jobshr.csv\"\n",
    "f=open(filename,\"w\")\n"
   ]
  },
  {
   "cell_type": "code",
   "execution_count": 61,
   "metadata": {},
   "outputs": [
    {
     "data": {
      "text/plain": [
       "47"
      ]
     },
     "execution_count": 61,
     "metadata": {},
     "output_type": "execute_result"
    }
   ],
   "source": [
    "headers=\"Job_title,Industry,Company,Location,Experience\\n\"\n",
    "f.write(headers)\n"
   ]
  },
  {
   "cell_type": "code",
   "execution_count": 62,
   "metadata": {},
   "outputs": [
    {
     "name": "stdout",
     "output_type": "stream",
     "text": [
      "1-3 years\n",
      "0-5 years\n",
      "2-5 years\n",
      "5-6 years\n",
      "0-3 years\n",
      "0-2 years\n",
      "0-2 years\n",
      "3-8 years\n",
      "1-3 years\n",
      "1-3 years\n",
      "2-5 years\n",
      "1-3 years\n",
      "1-3 years\n",
      "2-10 years\n",
      "1-3 years\n",
      "0-1 years\n",
      "10-13 years\n",
      "3-10 years\n",
      "0-0 years\n",
      "0-2 years\n",
      "2-6 years\n",
      "0-5 years\n",
      "0-5 years\n",
      "1-5 years\n",
      "0-5 years\n",
      "0-2 years\n",
      "0-1 years\n",
      "0-1 years\n",
      "0-5 years\n",
      "0-1 years\n",
      "2-12 years\n",
      "0-4 years\n",
      "4-7 years\n",
      "1-6 years\n",
      "1-3 years\n",
      "3-5 years\n",
      "3-8 years\n",
      "4-13 years\n",
      "0-2 years\n",
      "6-16 years\n"
     ]
    },
    {
     "ename": "IndexError",
     "evalue": "list index out of range",
     "output_type": "error",
     "traceback": [
      "\u001b[1;31m---------------------------------------------------------------------------\u001b[0m",
      "\u001b[1;31mIndexError\u001b[0m                                Traceback (most recent call last)",
      "\u001b[1;32m<ipython-input-62-179b27fa57db>\u001b[0m in \u001b[0;36m<module>\u001b[1;34m()\u001b[0m\n\u001b[0;32m      4\u001b[0m     \u001b[0mjob_loc\u001b[0m\u001b[1;33m=\u001b[0m\u001b[0mitem\u001b[0m\u001b[1;33m.\u001b[0m\u001b[0mfind_all\u001b[0m\u001b[1;33m(\u001b[0m\u001b[1;34m\"div\"\u001b[0m\u001b[1;33m,\u001b[0m\u001b[1;33m{\u001b[0m\u001b[1;34m\"class\"\u001b[0m\u001b[1;33m:\u001b[0m\u001b[1;34m\"jtxt jico ico1\"\u001b[0m\u001b[1;33m}\u001b[0m\u001b[1;33m)\u001b[0m\u001b[1;33m\u001b[0m\u001b[0m\n\u001b[0;32m      5\u001b[0m     \u001b[0mjob_exp\u001b[0m\u001b[1;33m=\u001b[0m\u001b[0mitem\u001b[0m\u001b[1;33m.\u001b[0m\u001b[0mfind_all\u001b[0m\u001b[1;33m(\u001b[0m\u001b[1;34m\"div\"\u001b[0m\u001b[1;33m,\u001b[0m\u001b[1;33m{\u001b[0m\u001b[1;34m\"class\"\u001b[0m\u001b[1;33m:\u001b[0m\u001b[1;34m\"jtxt jico ico2\"\u001b[0m\u001b[1;33m}\u001b[0m\u001b[1;33m)\u001b[0m\u001b[1;33m\u001b[0m\u001b[0m\n\u001b[1;32m----> 6\u001b[1;33m     \u001b[0mtitle\u001b[0m\u001b[1;33m=\u001b[0m\u001b[0mjob_title\u001b[0m\u001b[1;33m[\u001b[0m\u001b[1;36m0\u001b[0m\u001b[1;33m]\u001b[0m\u001b[1;33m.\u001b[0m\u001b[0mtext\u001b[0m\u001b[1;33m.\u001b[0m\u001b[0mstrip\u001b[0m\u001b[1;33m(\u001b[0m\u001b[1;33m)\u001b[0m\u001b[1;33m\u001b[0m\u001b[0m\n\u001b[0m\u001b[0;32m      7\u001b[0m     \u001b[0mindustry\u001b[0m\u001b[1;33m=\u001b[0m\u001b[1;34m\"HR\"\u001b[0m\u001b[1;33m\u001b[0m\u001b[0m\n\u001b[0;32m      8\u001b[0m     \u001b[0mcompany\u001b[0m\u001b[1;33m=\u001b[0m\u001b[0mjob_company\u001b[0m\u001b[1;33m[\u001b[0m\u001b[1;36m0\u001b[0m\u001b[1;33m]\u001b[0m\u001b[1;33m.\u001b[0m\u001b[0mtext\u001b[0m\u001b[1;33m\u001b[0m\u001b[0m\n",
      "\u001b[1;31mIndexError\u001b[0m: list index out of range"
     ]
    }
   ],
   "source": [
    "for item in data:\n",
    "    job_title=item.find_all(\"span\",{\"class\":\"title_in\"})\n",
    "    job_company=item.find_all(\"div\",{\"class\" : \"jtxt orange\"})\n",
    "    job_loc=item.find_all(\"div\",{\"class\":\"jtxt jico ico1\"})\n",
    "    job_exp=item.find_all(\"div\",{\"class\":\"jtxt jico ico2\"})\n",
    "    title=job_title[0].text.strip()\n",
    "    industry=\"HR\"\n",
    "    company=job_company[0].text\n",
    "    loc=job_loc[0].text\n",
    "    exp=job_exp[0].text\n",
    "    f.write(title.replace(\",\",\"|\") + \",\"+industry.replace(\",\",\"|\")+\",\" + company.replace(\",\",\"|\") + \",\"+loc.replace(\",\",\"|\")+ \",\"+exp+\"\\n\")"
   ]
  },
  {
   "cell_type": "code",
   "execution_count": 63,
   "metadata": {},
   "outputs": [],
   "source": [
    "f.close()"
   ]
  },
  {
   "cell_type": "code",
   "execution_count": null,
   "metadata": {},
   "outputs": [],
   "source": []
  }
 ],
 "metadata": {
  "kernelspec": {
   "display_name": "Python 3",
   "language": "python",
   "name": "python3"
  },
  "language_info": {
   "codemirror_mode": {
    "name": "ipython",
    "version": 3
   },
   "file_extension": ".py",
   "mimetype": "text/x-python",
   "name": "python",
   "nbconvert_exporter": "python",
   "pygments_lexer": "ipython3",
   "version": "3.7.0"
  }
 },
 "nbformat": 4,
 "nbformat_minor": 2
}
