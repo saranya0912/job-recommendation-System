{
 "cells": [
  {
   "cell_type": "code",
   "execution_count": 1,
   "metadata": {},
   "outputs": [],
   "source": [
    "import requests"
   ]
  },
  {
   "cell_type": "code",
   "execution_count": 2,
   "metadata": {},
   "outputs": [],
   "source": [
    "import bs4"
   ]
  },
  {
   "cell_type": "code",
   "execution_count": 9,
   "metadata": {},
   "outputs": [],
   "source": [
    "response=requests.get('https://www.monsterindia.com/jobs-in-chennai.html')"
   ]
  },
  {
   "cell_type": "code",
   "execution_count": 10,
   "metadata": {},
   "outputs": [],
   "source": [
    "soup=bs4.BeautifulSoup(response.text,'lxml')"
   ]
  },
  {
   "cell_type": "code",
   "execution_count": 11,
   "metadata": {},
   "outputs": [],
   "source": [
    "tag=soup.select('title')"
   ]
  },
  {
   "cell_type": "code",
   "execution_count": 12,
   "metadata": {},
   "outputs": [
    {
     "data": {
      "text/plain": [
       "<title>Jobs in Chennai - 11751 Latest Job Vacancies in Chennai (January 2019) | Monster India</title>"
      ]
     },
     "execution_count": 12,
     "metadata": {},
     "output_type": "execute_result"
    }
   ],
   "source": [
    "tag[0]"
   ]
  },
  {
   "cell_type": "code",
   "execution_count": 13,
   "metadata": {},
   "outputs": [
    {
     "data": {
      "text/plain": [
       "'Jobs in Chennai - 11751 Latest Job Vacancies in Chennai (January 2019) | Monster India'"
      ]
     },
     "execution_count": 13,
     "metadata": {},
     "output_type": "execute_result"
    }
   ],
   "source": [
    "tag[0].getText()"
   ]
  },
  {
   "cell_type": "code",
   "execution_count": 14,
   "metadata": {},
   "outputs": [
    {
     "ename": "IndexError",
     "evalue": "list index out of range",
     "output_type": "error",
     "traceback": [
      "\u001b[1;31m---------------------------------------------------------------------------\u001b[0m",
      "\u001b[1;31mIndexError\u001b[0m                                Traceback (most recent call last)",
      "\u001b[1;32m<ipython-input-14-d9749afc3388>\u001b[0m in \u001b[0;36m<module>\u001b[1;34m\u001b[0m\n\u001b[1;32m----> 1\u001b[1;33m \u001b[0mtag\u001b[0m\u001b[1;33m[\u001b[0m\u001b[1;36m1\u001b[0m\u001b[1;33m]\u001b[0m\u001b[1;33m.\u001b[0m\u001b[0mgetText\u001b[0m\u001b[1;33m(\u001b[0m\u001b[1;33m)\u001b[0m\u001b[1;33m\u001b[0m\u001b[1;33m\u001b[0m\u001b[0m\n\u001b[0m",
      "\u001b[1;31mIndexError\u001b[0m: list index out of range"
     ]
    }
   ],
   "source": [
    "tag[1].getText()"
   ]
  },
  {
   "cell_type": "code",
   "execution_count": 15,
   "metadata": {},
   "outputs": [
    {
     "data": {
      "text/plain": [
       "[]"
      ]
     },
     "execution_count": 15,
     "metadata": {},
     "output_type": "execute_result"
    }
   ],
   "source": [
    "soup.select('.joblnk searchjoblnk')"
   ]
  },
  {
   "cell_type": "code",
   "execution_count": 16,
   "metadata": {},
   "outputs": [
    {
     "data": {
      "text/plain": [
       "[<a class=\"title_in\" href=\"//www.monsterindia.com/job-vacancy-manual-testing-highpoints-technologies-india-private-limited-bengaluru-bangalore-chennai-1-3-years-23308807.html?sig=js-1--1&amp;from=&amp;rfr=refine;loc=3;day=365;ref=%2F%2Fwww%2Emonsterindia%2Ecom%2Fjob%2Dsearch%2Ehtml;res_cnt=4%30&amp;hlWords=\" target=\"_blank\" title=\"Manual Testing \"><span class=\"title_in\" style=\"margin-right:2px;\">Manual Testing</span></a>,\n",
       " <span class=\"title_in\" style=\"margin-right:2px;\">Manual Testing</span>,\n",
       " <a class=\"title_in\" href=\"//www.monsterindia.com/job-vacancy-software-engineer-lte-test-engineer-python-scripting-black-white-business-solutions-bengaluru-bangalore-chennai-3-8-years-23308744.html?sig=js-1--1&amp;from=&amp;rfr=refine;loc=3;day=365;ref=%2F%2Fwww%2Emonsterindia%2Ecom%2Fjob%2Dsearch%2Ehtml;res_cnt=4%30&amp;hlWords=\" target=\"_blank\" title=\"Software Engineer-LTE Test Engineer Python Scripting\"><span class=\"title_in\" style=\"margin-right:2px;\">Software Engineer-LTE Test Engineer Python Scripting</span></a>,\n",
       " <span class=\"title_in\" style=\"margin-right:2px;\">Software Engineer-LTE Test Engineer Python Scripting</span>,\n",
       " <a class=\"title_in\" href=\"//www.monsterindia.com/job-vacancy-software-engineer-black-and-white-business-solution-black-white-business-solutions-chennai-4-8-years-23308705.html?sig=js-1--1&amp;from=&amp;rfr=refine;loc=3;day=365;ref=%2F%2Fwww%2Emonsterindia%2Ecom%2Fjob%2Dsearch%2Ehtml;res_cnt=4%30&amp;hlWords=\" target=\"_blank\" title=\"Software Engineer-Black and White Business Solution\"><span class=\"title_in\" style=\"margin-right:2px;\">Software Engineer-Black and White Business Solution</span></a>,\n",
       " <span class=\"title_in\" style=\"margin-right:2px;\">Software Engineer-Black and White Business Solution</span>,\n",
       " <a class=\"title_in\" href=\"//www.monsterindia.com/job-vacancy-asp-net-developer-highpoints-technologies-india-private-limited-chennai-3-7-years-23308651.html?sig=js-1--1&amp;from=&amp;rfr=refine;loc=3;day=365;ref=%2F%2Fwww%2Emonsterindia%2Ecom%2Fjob%2Dsearch%2Ehtml;res_cnt=4%30&amp;hlWords=\" target=\"_blank\" title=\"ASP.NET Developer \"><span class=\"title_in\" style=\"margin-right:2px;\">ASP.Net Developer</span></a>,\n",
       " <span class=\"title_in\" style=\"margin-right:2px;\">ASP.Net Developer</span>,\n",
       " <a class=\"title_in\" href=\"//www.monsterindia.com/job-vacancy-java-highpoints-technologies-india-private-limited-chennai-3-7-years-23308640.html?sig=js-1--1&amp;from=&amp;rfr=refine;loc=3;day=365;ref=%2F%2Fwww%2Emonsterindia%2Ecom%2Fjob%2Dsearch%2Ehtml;res_cnt=4%30&amp;hlWords=\" target=\"_blank\" title=\"Java \"><span class=\"title_in\" style=\"margin-right:2px;\">Java</span></a>,\n",
       " <span class=\"title_in\" style=\"margin-right:2px;\">Java</span>,\n",
       " <a class=\"title_in\" href=\"//www.monsterindia.com/job-vacancy-we-are-having-opening-for-customer-service-executive-inbound-calls-only-recruit-india-chennai-0-1-years-23308568.html?sig=js-1--1&amp;from=&amp;rfr=refine;loc=3;day=365;ref=%2F%2Fwww%2Emonsterindia%2Ecom%2Fjob%2Dsearch%2Ehtml;res_cnt=4%30&amp;hlWords=\" target=\"_blank\" title=\"We are having Opening for Customer Service Executive (inbound calls only) ...\"><span class=\"title_in\" style=\"margin-right:2px;\">We are having Opening for Customer Service Executive (inbound calls only)</span></a>,\n",
       " <span class=\"title_in\" style=\"margin-right:2px;\">We are having Opening for Customer Service Executive (inbound calls only)</span>,\n",
       " <a class=\"title_in\" href=\"//www.monsterindia.com/job-vacancy-urgent-opening-for-telesales-loan-process-banking-habrows-technologies-private-limited-chennai-0-5-years-23308552.html?sig=js-1--1&amp;from=&amp;rfr=refine;loc=3;day=365;ref=%2F%2Fwww%2Emonsterindia%2Ecom%2Fjob%2Dsearch%2Ehtml;res_cnt=4%30&amp;hlWords=\" target=\"_blank\" title=\"Urgent Opening for Telesales - Loan Process - Banking\"><span class=\"title_in\" style=\"margin-right:2px;\">Urgent Opening for Telesales - Loan Process - Banking</span></a>,\n",
       " <span class=\"title_in\" style=\"margin-right:2px;\">Urgent Opening for Telesales - Loan Process - Banking</span>,\n",
       " <a class=\"title_in\" href=\"//www.monsterindia.com/job-vacancy-mjs2622-consultant-neurosurgeon-mch-dnb-chennai-sehat-health-community-services-private-limited-chennai-3-5-years-23308529.html?sig=js-1--1&amp;from=&amp;rfr=refine;loc=3;day=365;ref=%2F%2Fwww%2Emonsterindia%2Ecom%2Fjob%2Dsearch%2Ehtml;res_cnt=4%30&amp;hlWords=\" target=\"_blank\" title=\"MJS2622 - Consultant Neurosurgeon (MCH/DNB) -Chennai\"><span class=\"title_in\" style=\"margin-right:2px;\">MJS2622 - Consultant Neurosurgeon (MCH / DNB) -Chennai</span></a>,\n",
       " <span class=\"title_in\" style=\"margin-right:2px;\">MJS2622 - Consultant Neurosurgeon (MCH / DNB) -Chennai</span>,\n",
       " <a class=\"title_in\" href=\"//www.monsterindia.com/job-vacancy-boiler-operator-with-second-class-certificate-chennai-location-lrm-overseas-chennai-3-6-years-23308448.html?sig=js-1--1&amp;from=&amp;rfr=refine;loc=3;day=365;ref=%2F%2Fwww%2Emonsterindia%2Ecom%2Fjob%2Dsearch%2Ehtml;res_cnt=4%30&amp;hlWords=\" target=\"_blank\" title=\"Boiler Operator  with second class certificate / Chennai location ...\"><span class=\"title_in\" style=\"margin-right:2px;\">Boiler Operator with second class certificate / Chennai location</span></a>,\n",
       " <span class=\"title_in\" style=\"margin-right:2px;\">Boiler Operator with second class certificate / Chennai location</span>,\n",
       " <a class=\"title_in\" href=\"//www.monsterindia.com/job-vacancy-ipdrg-coder-healthcare-sukhvarsha-management-services-private-limited-chennai-1-4-years-23308361.html?sig=js-1--1&amp;from=&amp;rfr=refine;loc=3;day=365;ref=%2F%2Fwww%2Emonsterindia%2Ecom%2Fjob%2Dsearch%2Ehtml;res_cnt=4%30&amp;hlWords=\" target=\"_blank\" title=\"IPDRG coder-Healthcare\"><span class=\"title_in\" style=\"margin-right:2px;\">IPDRG coder-Healthcare</span></a>,\n",
       " <span class=\"title_in\" style=\"margin-right:2px;\">IPDRG coder-Healthcare</span>,\n",
       " <a class=\"title_in\" href=\"//www.monsterindia.com/job-vacancy-sr-executive-executive-sales-marketing-chennai-dexterous-solutions-limited-chennai-1-3-years-23308315.html?sig=js-1--1&amp;from=&amp;rfr=refine;loc=3;day=365;ref=%2F%2Fwww%2Emonsterindia%2Ecom%2Fjob%2Dsearch%2Ehtml;res_cnt=4%30&amp;hlWords=\" target=\"_blank\" title=\"Sr. Executive / Executive – Sales &amp; Marketing | Chennai...\"><span class=\"title_in\" style=\"margin-right:2px;\">Sr. Executive / Executive – Sales &amp; Marketing | Chennai</span></a>,\n",
       " <span class=\"title_in\" style=\"margin-right:2px;\">Sr. Executive / Executive – Sales &amp; Marketing | Chennai</span>,\n",
       " <a class=\"title_in\" href=\"//www.monsterindia.com/job-vacancy-sr-fico-hana-consultant-orcapod-consulting-services-private-limited-chennai-8-17-years-23308278.html?sig=js-1--1&amp;from=&amp;rfr=refine;loc=3;day=365;ref=%2F%2Fwww%2Emonsterindia%2Ecom%2Fjob%2Dsearch%2Ehtml;res_cnt=4%30&amp;hlWords=\" target=\"_blank\" title=\"Sr.FICO-HANA Consultant\"><span class=\"title_in\" style=\"margin-right:2px;\">Sr.FICO-HANA Consultant</span></a>,\n",
       " <span class=\"title_in\" style=\"margin-right:2px;\">Sr.FICO-HANA Consultant</span>,\n",
       " <a class=\"title_in\" href=\"//www.monsterindia.com/job-vacancy-senior-developer-barclays-chennai-4-9-years-23308274.html?sig=js-1--1&amp;from=&amp;rfr=refine;loc=3;day=365;ref=%2F%2Fwww%2Emonsterindia%2Ecom%2Fjob%2Dsearch%2Ehtml;res_cnt=4%30&amp;hlWords=\" target=\"_blank\" title=\"Senior Developer\"><span class=\"title_in\" style=\"margin-right:2px;\">Senior Developer</span></a>,\n",
       " <span class=\"title_in\" style=\"margin-right:2px;\">Senior Developer</span>,\n",
       " <a class=\"title_in\" href=\"//www.monsterindia.com/job-vacancy-repair-service-engineers-quantron-business-tech-solutions-private-chennai-2-5-years-23308264.html?sig=js-1--1&amp;from=&amp;rfr=refine;loc=3;day=365;ref=%2F%2Fwww%2Emonsterindia%2Ecom%2Fjob%2Dsearch%2Ehtml;res_cnt=4%30&amp;hlWords=\" target=\"_blank\" title=\"Repair &amp; Service Engineers \"><span class=\"title_in\" style=\"margin-right:2px;\"><span class=\"bold \">Repair &amp; Service Engineers</span></span></a>,\n",
       " <span class=\"title_in\" style=\"margin-right:2px;\"><span class=\"bold \">Repair &amp; Service Engineers</span></span>,\n",
       " <a class=\"title_in\" href=\"//www.monsterindia.com/job-vacancy-share-your-profile-to-get-interview-scheduled-for-accounts-executive-food-industry-kadapakkam-jts-jobs-consultancy-chennai-3-5-years-23308237.html?sig=js-1--1&amp;from=&amp;rfr=refine;loc=3;day=365;ref=%2F%2Fwww%2Emonsterindia%2Ecom%2Fjob%2Dsearch%2Ehtml;res_cnt=4%30&amp;hlWords=\" target=\"_blank\" title=\"Share your profile to get interview scheduled for Accounts  Executive, Food Indu...\"><span class=\"title_in\" style=\"margin-right:2px;\">Share your profile to get interview scheduled for Accounts Executive, Food Industry, Kadapakkam...</span></a>,\n",
       " <span class=\"title_in\" style=\"margin-right:2px;\">Share your profile to get interview scheduled for Accounts Executive, Food Industry, Kadapakkam...</span>,\n",
       " <a class=\"title_in\" href=\"//www.monsterindia.com/job-vacancy-executive-sales-quantron-business-tech-solutions-private-chennai-2-5-years-23308211.html?sig=js-1--1&amp;from=&amp;rfr=refine;loc=3;day=365;ref=%2F%2Fwww%2Emonsterindia%2Ecom%2Fjob%2Dsearch%2Ehtml;res_cnt=4%30&amp;hlWords=\" target=\"_blank\" title=\"Executive Sales \"><span class=\"title_in\" style=\"margin-right:2px;\"><span class=\"bold \">Executive Sales</span></span></a>,\n",
       " <span class=\"title_in\" style=\"margin-right:2px;\"><span class=\"bold \">Executive Sales</span></span>,\n",
       " <a class=\"title_in\" href=\"//www.monsterindia.com/job-vacancy-urgent-openings-for-network-engineer-l1-l2-position-technik-chennai-0-0-years-23308069.html?sig=js-1--1&amp;from=&amp;rfr=refine;loc=3;day=365;ref=%2F%2Fwww%2Emonsterindia%2Ecom%2Fjob%2Dsearch%2Ehtml;res_cnt=4%30&amp;hlWords=\" target=\"_blank\" title=\"URGENT OPENINGS FOR NETWORK ENGINEER(L1/L2 POSITION)\"><span class=\"title_in\" style=\"margin-right:2px;\">URGENT OPENINGS FOR NETWORK ENGINEER(L1 / L2 POSITION)</span></a>,\n",
       " <span class=\"title_in\" style=\"margin-right:2px;\">URGENT OPENINGS FOR NETWORK ENGINEER(L1 / L2 POSITION)</span>,\n",
       " <a class=\"title_in\" href=\"//www.monsterindia.com/job-vacancy-net-developer-iqura-technologies-private-limited-chennai-2-6-years-22423366.html?sig=js-1--1&amp;from=&amp;rfr=refine;loc=3;day=365;ref=%2F%2Fwww%2Emonsterindia%2Ecom%2Fjob%2Dsearch%2Ehtml;res_cnt=4%30&amp;hlWords=\" target=\"_blank\" title=\".Net Developer \"><span class=\"title_in\" style=\"margin-right:2px;\">.Net Developer</span></a>,\n",
       " <span class=\"title_in\" style=\"margin-right:2px;\">.Net Developer</span>,\n",
       " <a class=\"title_in\" href=\"//www.monsterindia.com/job-vacancy-sap-abap-magna-infotech-limited-chennai-pune-4-8-years-23307959.html?sig=js-1--1&amp;from=&amp;rfr=refine;loc=3;day=365;ref=%2F%2Fwww%2Emonsterindia%2Ecom%2Fjob%2Dsearch%2Ehtml;res_cnt=4%30&amp;hlWords=\" target=\"_blank\" title=\"SAP ABAP \"><span class=\"title_in\" style=\"margin-right:2px;\">SAP ABAP</span></a>,\n",
       " <span class=\"title_in\" style=\"margin-right:2px;\">SAP ABAP</span>,\n",
       " <a class=\"title_in\" href=\"//www.monsterindia.com/job-vacancy-sr-position-for-tableau-dashboard-and-etl-experienced-candidate-whatsapp-hr-at-7200003809-happy-jobs-worldwide-solutions-chennai-3-7-years-23307866.html?sig=js-1--1&amp;from=&amp;rfr=refine;loc=3;day=365;ref=%2F%2Fwww%2Emonsterindia%2Ecom%2Fjob%2Dsearch%2Ehtml;res_cnt=4%30&amp;hlWords=\" target=\"_blank\" title=\"Sr. Position for tableau dashboard and ETL experienced candidate.  Whatsapp HR a...\"><span class=\"title_in\" style=\"margin-right:2px;\">Sr. Position for tableau dashboard and ETL experienced candidate. Whatsapp HR at 7200003809</span></a>,\n",
       " <span class=\"title_in\" style=\"margin-right:2px;\">Sr. Position for tableau dashboard and ETL experienced candidate. Whatsapp HR at 7200003809</span>,\n",
       " <a class=\"title_in\" href=\"//www.monsterindia.com/job-vacancy-spotfire-cognizant-technology-solutions-india-pvt-ltd-chennai-pune-3-12-years-23307852.html?sig=js-1--1&amp;from=&amp;rfr=refine;loc=3;day=365;ref=%2F%2Fwww%2Emonsterindia%2Ecom%2Fjob%2Dsearch%2Ehtml;res_cnt=4%30&amp;hlWords=\" target=\"_blank\" title=\"Spotfire\"><span class=\"title_in\" style=\"margin-right:2px;\">Spotfire</span></a>,\n",
       " <span class=\"title_in\" style=\"margin-right:2px;\">Spotfire</span>,\n",
       " <a class=\"title_in\" href=\"//www.monsterindia.com/job-vacancy-cassandra-developer-cognizant-technology-solutions-india-pvt-ltd-chennai-9-12-years-23307831.html?sig=js-1--1&amp;from=&amp;rfr=refine;loc=3;day=365;ref=%2F%2Fwww%2Emonsterindia%2Ecom%2Fjob%2Dsearch%2Ehtml;res_cnt=4%30&amp;hlWords=\" target=\"_blank\" title=\"Cassandra Developer\"><span class=\"title_in\" style=\"margin-right:2px;\">Cassandra Developer</span></a>,\n",
       " <span class=\"title_in\" style=\"margin-right:2px;\">Cassandra Developer</span>,\n",
       " <a class=\"title_in\" href=\"//www.monsterindia.com/job-vacancy-big-data-spark-cognizant-technology-solutions-india-pvt-ltd-chennai-9-12-years-23307709.html?sig=js-1--1&amp;from=&amp;rfr=refine;loc=3;day=365;ref=%2F%2Fwww%2Emonsterindia%2Ecom%2Fjob%2Dsearch%2Ehtml;res_cnt=4%30&amp;hlWords=\" target=\"_blank\" title=\"Big Data / Spark\"><span class=\"title_in\" style=\"margin-right:2px;\">Big Data / Spark</span></a>,\n",
       " <span class=\"title_in\" style=\"margin-right:2px;\">Big Data / Spark</span>,\n",
       " <a class=\"title_in\" href=\"//www.monsterindia.com/job-vacancy-azure-cognizant-technology-solutions-india-pvt-ltd-chennai-3-9-years-23307648.html?sig=js-1--1&amp;from=&amp;rfr=refine;loc=3;day=365;ref=%2F%2Fwww%2Emonsterindia%2Ecom%2Fjob%2Dsearch%2Ehtml;res_cnt=4%30&amp;hlWords=\" target=\"_blank\" title=\"Azure\"><span class=\"title_in\" style=\"margin-right:2px;\">Azure</span></a>,\n",
       " <span class=\"title_in\" style=\"margin-right:2px;\">Azure</span>,\n",
       " <a class=\"title_in\" href=\"//www.monsterindia.com/job-vacancy-control-engineer-for-wind-turbines-petro-engineering-consultant-chennai-2-5-years-23307520.html?sig=js-1--1&amp;from=&amp;rfr=refine;loc=3;day=365;ref=%2F%2Fwww%2Emonsterindia%2Ecom%2Fjob%2Dsearch%2Ehtml;res_cnt=4%30&amp;hlWords=\" target=\"_blank\" title=\"Control Engineer for Wind Turbines\"><span class=\"title_in\" style=\"margin-right:2px;\">Control Engineer for Wind Turbines</span></a>,\n",
       " <span class=\"title_in\" style=\"margin-right:2px;\">Control Engineer for Wind Turbines</span>,\n",
       " <a class=\"title_in\" href=\"//www.monsterindia.com/job-vacancy-customer-care-executive-contact-center-executive-hindi-chennai-busisol-sourcing-india-private-limited-chennai-0-5-years-23307519.html?sig=js-1--1&amp;from=&amp;rfr=refine;loc=3;day=365;ref=%2F%2Fwww%2Emonsterindia%2Ecom%2Fjob%2Dsearch%2Ehtml;res_cnt=4%30&amp;hlWords=\" target=\"_blank\" title=\"Customer Care Executive/Contact Center Executive(Hindi)-Chennai...\"><span class=\"title_in\" style=\"margin-right:2px;\">Customer Care Executive / Contact Center Executive(Hindi)-Chennai</span></a>,\n",
       " <span class=\"title_in\" style=\"margin-right:2px;\">Customer Care Executive / Contact Center Executive(Hindi)-Chennai</span>,\n",
       " <a class=\"title_in\" href=\"//www.monsterindia.com/job-vacancy-sales-executive-bangalore-and-chennai-location-sagar-asia-private-limited-bengaluru-bangalore-chennai-2-5-years-23307047.html?sig=js-1--1&amp;from=&amp;rfr=refine;loc=3;day=365;ref=%2F%2Fwww%2Emonsterindia%2Ecom%2Fjob%2Dsearch%2Ehtml;res_cnt=4%30&amp;hlWords=\" target=\"_blank\" title=\"Sales Executive Bangalore and Chennai  Location\"><span class=\"title_in\" style=\"margin-right:2px;\">Sales Executive Bangalore and Chennai Location</span></a>,\n",
       " <span class=\"title_in\" style=\"margin-right:2px;\">Sales Executive Bangalore and Chennai Location</span>,\n",
       " <a class=\"title_in\" href=\"//www.monsterindia.com/job-vacancy-ibm-infosphere-datastage-cognizant-technology-solutions-india-pvt-ltd-chennai-coimbatore-3-6-years-23307028.html?sig=js-1--1&amp;from=&amp;rfr=refine;loc=3;day=365;ref=%2F%2Fwww%2Emonsterindia%2Ecom%2Fjob%2Dsearch%2Ehtml;res_cnt=4%30&amp;hlWords=\" target=\"_blank\" title=\"IBM Infosphere Datastage\"><span class=\"title_in\" style=\"margin-right:2px;\">IBM Infosphere Datastage</span></a>,\n",
       " <span class=\"title_in\" style=\"margin-right:2px;\">IBM Infosphere Datastage</span>,\n",
       " <a class=\"title_in\" href=\"//www.monsterindia.com/job-vacancy-sap-pi-po-consultant-thirdware-solutions-limited-chennai-5-8-years-23306993.html?sig=js-1--1&amp;from=&amp;rfr=refine;loc=3;day=365;ref=%2F%2Fwww%2Emonsterindia%2Ecom%2Fjob%2Dsearch%2Ehtml;res_cnt=4%30&amp;hlWords=\" target=\"_blank\" title=\"SAP PI / PO Consultant\"><span class=\"title_in\" style=\"margin-right:2px;\">SAP PI / PO Consultant</span></a>,\n",
       " <span class=\"title_in\" style=\"margin-right:2px;\">SAP PI / PO Consultant</span>,\n",
       " <a class=\"title_in\" href=\"//www.monsterindia.com/job-vacancy-accounts-manager-prime-consulting-services-chennai-12-15-years-23306939.html?sig=js-1--1&amp;from=&amp;rfr=refine;loc=3;day=365;ref=%2F%2Fwww%2Emonsterindia%2Ecom%2Fjob%2Dsearch%2Ehtml;res_cnt=4%30&amp;hlWords=\" target=\"_blank\" title=\"Accounts Manager \"><span class=\"title_in\" style=\"margin-right:2px;\">Accounts Manager</span></a>,\n",
       " <span class=\"title_in\" style=\"margin-right:2px;\">Accounts Manager</span>,\n",
       " <a class=\"title_in\" href=\"//www.monsterindia.com/job-vacancy-software-programmer-supreme-netsoft-private-limited-bengaluru-bangalore-chennai-2-8-years-23306856.html?sig=js-1--1&amp;from=&amp;rfr=refine;loc=3;day=365;ref=%2F%2Fwww%2Emonsterindia%2Ecom%2Fjob%2Dsearch%2Ehtml;res_cnt=4%30&amp;hlWords=\" target=\"_blank\" title=\"Software Programmer \"><span class=\"title_in\" style=\"margin-right:2px;\">Software Programmer</span></a>,\n",
       " <span class=\"title_in\" style=\"margin-right:2px;\">Software Programmer</span>,\n",
       " <a class=\"title_in\" href=\"//www.monsterindia.com/job-vacancy-full-stack-etl-venpa-staffing-services-india-private-limited-chennai-3-5-years-23306800.html?sig=js-1--1&amp;from=&amp;rfr=refine;loc=3;day=365;ref=%2F%2Fwww%2Emonsterindia%2Ecom%2Fjob%2Dsearch%2Ehtml;res_cnt=4%30&amp;hlWords=\" target=\"_blank\" title=\"Full Stack ETL\"><span class=\"title_in\" style=\"margin-right:2px;\">Full Stack ETL</span></a>,\n",
       " <span class=\"title_in\" style=\"margin-right:2px;\">Full Stack ETL</span>,\n",
       " <a class=\"title_in\" href=\"//www.monsterindia.com/job-vacancy-desktop-support-engineer-chennai-9632577666-c-solve-solutions-private-limited-chennai-0-1-years-23306781.html?sig=js-1--1&amp;from=&amp;rfr=refine;loc=3;day=365;ref=%2F%2Fwww%2Emonsterindia%2Ecom%2Fjob%2Dsearch%2Ehtml;res_cnt=4%30&amp;hlWords=\" target=\"_blank\" title=\"Desktop Support Engineer - Chennai - 9632577666\"><span class=\"title_in\" style=\"margin-right:2px;\">Desktop Support Engineer - Chennai - 9632577666</span></a>,\n",
       " <span class=\"title_in\" style=\"margin-right:2px;\">Desktop Support Engineer - Chennai - 9632577666</span>,\n",
       " <a class=\"title_in\" href=\"//www.monsterindia.com/job-vacancy-hr-executive-all-area-access-solutions-chennai-0-2-years-23306770.html?sig=js-1--1&amp;from=&amp;rfr=refine;loc=3;day=365;ref=%2F%2Fwww%2Emonsterindia%2Ecom%2Fjob%2Dsearch%2Ehtml;res_cnt=4%30&amp;hlWords=\" target=\"_blank\" title=\"HR Executive \"><span class=\"title_in\" style=\"margin-right:2px;\">HR Executive</span></a>,\n",
       " <span class=\"title_in\" style=\"margin-right:2px;\">HR Executive</span>,\n",
       " <a class=\"title_in\" href=\"//www.monsterindia.com/job-vacancy-spark-professional-cognizant-technology-solutions-india-pvt-ltd-chennai-6-12-years-23306755.html?sig=js-1--1&amp;from=&amp;rfr=refine;loc=3;day=365;ref=%2F%2Fwww%2Emonsterindia%2Ecom%2Fjob%2Dsearch%2Ehtml;res_cnt=4%30&amp;hlWords=\" target=\"_blank\" title=\"Spark Professional\"><span class=\"title_in\" style=\"margin-right:2px;\">Spark Professional</span></a>,\n",
       " <span class=\"title_in\" style=\"margin-right:2px;\">Spark Professional</span>,\n",
       " <a class=\"title_in\" href=\"//www.monsterindia.com/job-vacancy-java-angularjs-sp-staffing-services-private-limited-chennai-4-7-years-23306667.html?sig=js-1--1&amp;from=&amp;rfr=refine;loc=3;day=365;ref=%2F%2Fwww%2Emonsterindia%2Ecom%2Fjob%2Dsearch%2Ehtml;res_cnt=4%30&amp;hlWords=\" target=\"_blank\" title=\"Java AngularJS\"><span class=\"title_in\" style=\"margin-right:2px;\">Java AngularJS</span></a>,\n",
       " <span class=\"title_in\" style=\"margin-right:2px;\">Java AngularJS</span>,\n",
       " <a class=\"title_in\" href=\"//www.monsterindia.com/job-vacancy-immediate-opening-for-freshers-in-bpo-non-voice-process-zealous-call-centre-services-private-limited-chennai-0-1-years-23306599.html?sig=js-1--1&amp;from=&amp;rfr=refine;loc=3;day=365;ref=%2F%2Fwww%2Emonsterindia%2Ecom%2Fjob%2Dsearch%2Ehtml;res_cnt=4%30&amp;hlWords=\" target=\"_blank\" title=\"Immediate Opening for freshers in BPO Non Voice Process\"><span class=\"title_in\" style=\"margin-right:2px;\">Immediate Opening for freshers in BPO Non Voice Process</span></a>,\n",
       " <span class=\"title_in\" style=\"margin-right:2px;\">Immediate Opening for freshers in BPO Non Voice Process</span>,\n",
       " <a class=\"title_in\" href=\"//www.monsterindia.com/job-vacancy-bulk-hiring-for-engineering-freshers-peeldata-solutions-private-limited-chennai-0-5-years-23306544.html?sig=js-1--1&amp;from=&amp;rfr=refine;loc=3;day=365;ref=%2F%2Fwww%2Emonsterindia%2Ecom%2Fjob%2Dsearch%2Ehtml;res_cnt=4%30&amp;hlWords=\" target=\"_blank\" title=\"Bulk Hiring for Engineering Freshers\"><span class=\"title_in\" style=\"margin-right:2px;\">Bulk Hiring for Engineering Freshers</span></a>,\n",
       " <span class=\"title_in\" style=\"margin-right:2px;\">Bulk Hiring for Engineering Freshers</span>,\n",
       " <a class=\"title_in\" href=\"//www.monsterindia.com/job-vacancy-web-content-writer-freelancer-needed-croyez-hr-solutions-private-limited-chennai-3-5-years-23306531.html?sig=js-1--1&amp;from=&amp;rfr=refine;loc=3;day=365;ref=%2F%2Fwww%2Emonsterindia%2Ecom%2Fjob%2Dsearch%2Ehtml;res_cnt=4%30&amp;hlWords=\" target=\"_blank\" title=\"Web Content Writer -Freelancer Needed\"><span class=\"title_in\" style=\"margin-right:2px;\">Web Content Writer -Freelancer Needed</span></a>,\n",
       " <span class=\"title_in\" style=\"margin-right:2px;\">Web Content Writer -Freelancer Needed</span>,\n",
       " <a class=\"title_in\" href=\"//www.monsterindia.com/job-vacancy-immediate-opening-for-test-lead-sr-test-lead-exela-technologies-chennai-6-9-years-23306456.html?sig=js-1--1&amp;from=&amp;rfr=refine;loc=3;day=365;ref=%2F%2Fwww%2Emonsterindia%2Ecom%2Fjob%2Dsearch%2Ehtml;res_cnt=4%30&amp;hlWords=\" target=\"_blank\" title=\"Immediate Opening for Test Lead / Sr.Test Lead\"><span class=\"title_in\" style=\"margin-right:2px;\">Immediate Opening for Test Lead / Sr.Test Lead</span></a>,\n",
       " <span class=\"title_in\" style=\"margin-right:2px;\">Immediate Opening for Test Lead / Sr.Test Lead</span>]"
      ]
     },
     "execution_count": 16,
     "metadata": {},
     "output_type": "execute_result"
    }
   ],
   "source": [
    "soup.select('.title_in')"
   ]
  },
  {
   "cell_type": "code",
   "execution_count": 18,
   "metadata": {},
   "outputs": [
    {
     "name": "stdout",
     "output_type": "stream",
     "text": [
      "Manual Testing\n",
      "Manual Testing\n",
      "Software Engineer-LTE Test Engineer Python Scripting\n",
      "Software Engineer-LTE Test Engineer Python Scripting\n",
      "Software Engineer-Black and White Business Solution\n",
      "Software Engineer-Black and White Business Solution\n",
      "ASP.Net Developer\n",
      "ASP.Net Developer\n",
      "Java\n",
      "Java\n",
      "We are having Opening for Customer Service Executive (inbound calls only)\n",
      "We are having Opening for Customer Service Executive (inbound calls only)\n",
      "Urgent Opening for Telesales - Loan Process - Banking\n",
      "Urgent Opening for Telesales - Loan Process - Banking\n",
      "MJS2622 - Consultant Neurosurgeon (MCH / DNB) -Chennai\n",
      "MJS2622 - Consultant Neurosurgeon (MCH / DNB) -Chennai\n",
      "Boiler Operator with second class certificate / Chennai location\n",
      "Boiler Operator with second class certificate / Chennai location\n",
      "IPDRG coder-Healthcare\n",
      "IPDRG coder-Healthcare\n",
      "Sr. Executive / Executive – Sales & Marketing | Chennai\n",
      "Sr. Executive / Executive – Sales & Marketing | Chennai\n",
      "Sr.FICO-HANA Consultant\n",
      "Sr.FICO-HANA Consultant\n",
      "Senior Developer\n",
      "Senior Developer\n",
      "Repair & Service Engineers\n",
      "Repair & Service Engineers\n",
      "Share your profile to get interview scheduled for Accounts Executive, Food Industry, Kadapakkam...\n",
      "Share your profile to get interview scheduled for Accounts Executive, Food Industry, Kadapakkam...\n",
      "Executive Sales\n",
      "Executive Sales\n",
      "URGENT OPENINGS FOR NETWORK ENGINEER(L1 / L2 POSITION)\n",
      "URGENT OPENINGS FOR NETWORK ENGINEER(L1 / L2 POSITION)\n",
      ".Net Developer\n",
      ".Net Developer\n",
      "SAP ABAP\n",
      "SAP ABAP\n",
      "Sr. Position for tableau dashboard and ETL experienced candidate. Whatsapp HR at 7200003809\n",
      "Sr. Position for tableau dashboard and ETL experienced candidate. Whatsapp HR at 7200003809\n",
      "Spotfire\n",
      "Spotfire\n",
      "Cassandra Developer\n",
      "Cassandra Developer\n",
      "Big Data / Spark\n",
      "Big Data / Spark\n",
      "Azure\n",
      "Azure\n",
      "Control Engineer for Wind Turbines\n",
      "Control Engineer for Wind Turbines\n",
      "Customer Care Executive / Contact Center Executive(Hindi)-Chennai\n",
      "Customer Care Executive / Contact Center Executive(Hindi)-Chennai\n",
      "Sales Executive Bangalore and Chennai Location\n",
      "Sales Executive Bangalore and Chennai Location\n",
      "IBM Infosphere Datastage\n",
      "IBM Infosphere Datastage\n",
      "SAP PI / PO Consultant\n",
      "SAP PI / PO Consultant\n",
      "Accounts Manager\n",
      "Accounts Manager\n",
      "Software Programmer\n",
      "Software Programmer\n",
      "Full Stack ETL\n",
      "Full Stack ETL\n",
      "Desktop Support Engineer - Chennai - 9632577666\n",
      "Desktop Support Engineer - Chennai - 9632577666\n",
      "HR Executive\n",
      "HR Executive\n",
      "Spark Professional\n",
      "Spark Professional\n",
      "Java AngularJS\n",
      "Java AngularJS\n",
      "Immediate Opening for freshers in BPO Non Voice Process\n",
      "Immediate Opening for freshers in BPO Non Voice Process\n",
      "Bulk Hiring for Engineering Freshers\n",
      "Bulk Hiring for Engineering Freshers\n",
      "Web Content Writer -Freelancer Needed\n",
      "Web Content Writer -Freelancer Needed\n",
      "Immediate Opening for Test Lead / Sr.Test Lead\n",
      "Immediate Opening for Test Lead / Sr.Test Lead\n"
     ]
    }
   ],
   "source": [
    "for i in soup.select ('.title_in'):\n",
    "    print(i.text)"
   ]
  },
  {
   "cell_type": "code",
   "execution_count": 20,
   "metadata": {},
   "outputs": [
    {
     "ename": "IndentationError",
     "evalue": "expected an indented block (<ipython-input-20-c399eb5fcc44>, line 2)",
     "output_type": "error",
     "traceback": [
      "\u001b[1;36m  File \u001b[1;32m\"<ipython-input-20-c399eb5fcc44>\"\u001b[1;36m, line \u001b[1;32m2\u001b[0m\n\u001b[1;33m    print(link['href'])\u001b[0m\n\u001b[1;37m        ^\u001b[0m\n\u001b[1;31mIndentationError\u001b[0m\u001b[1;31m:\u001b[0m expected an indented block\n"
     ]
    }
   ],
   "source": [
    "for link in soup.find_all('a',href=True):\n",
    "print(link['href'])"
   ]
  },
  {
   "cell_type": "code",
   "execution_count": null,
   "metadata": {},
   "outputs": [],
   "source": []
  }
 ],
 "metadata": {
  "kernelspec": {
   "display_name": "Python 3",
   "language": "python",
   "name": "python3"
  },
  "language_info": {
   "codemirror_mode": {
    "name": "ipython",
    "version": 3
   },
   "file_extension": ".py",
   "mimetype": "text/x-python",
   "name": "python",
   "nbconvert_exporter": "python",
   "pygments_lexer": "ipython3",
   "version": "3.7.1"
  }
 },
 "nbformat": 4,
 "nbformat_minor": 2
}
